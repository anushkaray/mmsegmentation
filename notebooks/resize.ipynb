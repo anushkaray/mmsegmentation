{
 "cells": [
  {
   "cell_type": "code",
   "execution_count": 1,
   "id": "ab143ef4-f298-46ed-b4ba-4ae1a8b15154",
   "metadata": {},
   "outputs": [],
   "source": [
    "from PIL import Image\n",
    "import os"
   ]
  },
  {
   "cell_type": "code",
   "execution_count": null,
   "id": "5652ea8f-478b-428c-9e8e-deb2ea9047b9",
   "metadata": {},
   "outputs": [],
   "source": [
    "def resize_images(path, resize_factor):\n",
    "    dirs = os.listdir(path)\n",
    "    for item in dirs:\n",
    "        if os.path.isfile(path+item):\n",
    "            im = Image.open(path+item)\n",
    "            # f, e = os.path.splitext(path+item)\n",
    "            imResize = im.resize(resize_factor, Image.ANTIALIAS)\n",
    "            width, height = imResize.size\n",
    "            imResize.save(path+item)"
   ]
  },
  {
   "cell_type": "code",
   "execution_count": null,
   "id": "b26ed25a-8487-4fe7-8528-b6f4889c1c8d",
   "metadata": {},
   "outputs": [],
   "source": [
    "path_annotation = '/home/ubuntu/meng/mmsegmentation/data/dataset_resize_test/annotate/'\n",
    "resize_factor = (600, 400)\n",
    "suffix = 'JPG'\n",
    "resize_images(path_annotation, resize_factor)"
   ]
  },
  {
   "cell_type": "code",
   "execution_count": null,
   "id": "d583d2b1-80b2-4660-8f5d-d0ff41b4a914",
   "metadata": {},
   "outputs": [],
   "source": [
    "path_image = '/home/ubuntu/meng/mmsegmentation/data/dataset_resize_test/image/'\n",
    "suffix2 = 'PNG'\n",
    "resize_images(path_image, resize_factor)"
   ]
  },
  {
   "cell_type": "code",
   "execution_count": null,
   "id": "5abdab89-23af-4198-a9a0-1c31d5732935",
   "metadata": {},
   "outputs": [],
   "source": [
    "im = Image.open(\"/home/ubuntu/meng/mmsegmentation/data/dataset_resize_test/annotate/013.jpg\")\n",
    "width, height = im.size\n",
    "print(\"width: \", width)\n",
    "print(\"height: \", height)\n",
    "im.show()"
   ]
  },
  {
   "cell_type": "code",
   "execution_count": null,
   "id": "0091e5e0-e7aa-4686-a136-2dc89788c632",
   "metadata": {},
   "outputs": [],
   "source": [
    "path_ann_test = \"/home/ubuntu/meng/mmsegmentation/data/dataset_mmseg/ann_dir/test/\"\n",
    "path_ann_train = \"/home/ubuntu/meng/mmsegmentation/data/dataset_mmseg/ann_dir/train/\"\n",
    "path_ann_val = \"/home/ubuntu/meng/mmsegmentation/data/dataset_mmseg/ann_dir/val/\"\n",
    "\n",
    "path_img_test = \"/home/ubuntu/meng/mmsegmentation/data/dataset_mmseg/img_dir/test/\"\n",
    "path_img_train = \"/home/ubuntu/meng/mmsegmentation/data/dataset_mmseg/img_dir/train/\"\n",
    "path_img_val = \"/home/ubuntu/meng/mmsegmentation/data/dataset_mmseg/img_dir/val/\"\n",
    "\n",
    "all_folders = [path_ann_test, path_ann_train, path_ann_val, path_img_test, path_img_train, path_img_val]\n",
    "\n",
    "resize_factor = (600, 400)\n",
    "\n",
    "for folder in all_folders:\n",
    "    resize_images(folder, resize_factor)\n",
    "    print(\"finished: \" + folder)"
   ]
  },
  {
   "cell_type": "code",
   "execution_count": null,
   "id": "205d785c-081b-452e-89a8-edd0b24011ba",
   "metadata": {},
   "outputs": [],
   "source": [
    "path_ann_test = \"/home/ubuntu/meng/mmsegmentation/data/dataset_mmseg/ann_dir/test/\"\n",
    "path_ann_train = \"/home/ubuntu/meng/mmsegmentation/data/dataset_mmseg/ann_dir/train/\"\n",
    "path_ann_val = \"/home/ubuntu/meng/mmsegmentation/data/dataset_mmseg/ann_dir/val/\"\n",
    "\n",
    "all_folders = [path_ann_test, path_ann_train, path_ann_val]\n",
    "resize_factor = (600, 400)\n",
    "for folder in all_folders:\n",
    "    resize_images(folder, resize_factor)\n",
    "    print(\"finished: \" + folder)"
   ]
  },
  {
   "cell_type": "code",
   "execution_count": null,
   "id": "22166a41-a041-4846-a6a9-cc515c0134f4",
   "metadata": {},
   "outputs": [],
   "source": [
    "def resize_images_uav(path, output_path):\n",
    "    dirs = os.listdir(path)\n",
    "    for item in dirs:\n",
    "        if os.path.isfile(path+item):\n",
    "            im = Image.open(path+item)\n",
    "            # f, e = os.path.splitext(path+item)\n",
    "            width, height = im.size\n",
    "            new_height = int((600 * height)/width)\n",
    "            resize_factor = (600, new_height)\n",
    "            imResize = im.resize(resize_factor, Image.ANTIALIAS)\n",
    "            width, height = imResize.size\n",
    "            imResize.save(output_path+item)"
   ]
  },
  {
   "cell_type": "code",
   "execution_count": null,
   "id": "72283375-79f9-464e-9a62-cd67ba50b09d",
   "metadata": {},
   "outputs": [],
   "source": [
    "kate_uav_dataset_path = \"/home/gridsan/kxu/uav_dataset\"\n",
    "\n",
    "original_img_dir = os.path.join(kate_uav_dataset_path, \"img_dir\")\n",
    "original_ann_dir = os.path.join(kate_uav_dataset_path, \"ann_dir_rgb\")\n",
    "\n",
    "resized_img_dir = os.path.join(kate_uav_dataset_path, \"resized_img_dir\")\n",
    "resized_ann_dir = os.path.join(kate_uav_dataset_path, \"resized_ann_dir\")"
   ]
  },
  {
   "cell_type": "code",
   "execution_count": null,
   "id": "7b27e21d-cf5e-4ac7-964b-1666975ad3f1",
   "metadata": {},
   "outputs": [],
   "source": [
    "ann_path_train = os.path.join(original_ann_dir, \"train/\")\n",
    "ann_path_test = os.path.join(original_ann_dir, \"test/\")\n",
    "ann_path_val = os.path.join(original_ann_dir, \"val/\")\n",
    "\n",
    "img_path_train = os.path.join(original_img_dir, \"train/\")\n",
    "img_path_test = os.path.join(original_img_dir, \"test/\")\n",
    "img_path_val = os.path.join(original_img_dir, \"val/\")\n",
    "\n",
    "ann_train_out = os.path.join(resized_ann_dir, \"train/\")\n",
    "ann_test_out = os.path.join(resized_ann_dir, \"test/\")\n",
    "ann_val_out = os.path.join(resized_ann_dir, \"val/\")\n",
    "\n",
    "img_train_out = os.path.join(resized_img_dir, \"train/\")\n",
    "img_test_out = os.path.join(resized_img_dir, \"test/\")\n",
    "img_val_out = os.path.join(resized_img_dir, \"val/\")"
   ]
  },
  {
   "cell_type": "code",
   "execution_count": null,
   "id": "89103e5c-d996-46cb-9313-b4cebb83dd46",
   "metadata": {},
   "outputs": [],
   "source": [
    "input_paths = [ann_path_train, ann_path_test, ann_path_val,img_path_train, img_path_test, img_path_val]\n",
    "output_paths = [ann_train_out, ann_test_out, ann_val_out, img_train_out,img_test_out, img_val_out ]"
   ]
  },
  {
   "cell_type": "code",
   "execution_count": null,
   "id": "820dda7a-82e7-49a5-ab7c-cffd3b67ea42",
   "metadata": {},
   "outputs": [],
   "source": [
    "for i in range(len(input_paths)):\n",
    "    resize_images_uav(input_paths[i], output_paths[i])"
   ]
  },
  {
   "cell_type": "markdown",
   "id": "05832748-102f-4742-ab5c-4ef9ed455b5b",
   "metadata": {},
   "source": [
    "Convert Nearmap Images from PNG to JPG"
   ]
  },
  {
   "cell_type": "code",
   "execution_count": 2,
   "id": "fed8594e-3475-4f09-a92d-fd9d3f771703",
   "metadata": {},
   "outputs": [],
   "source": [
    "data_root = \"/home/gridsan/aray/meng/mmsegmentation/data/dataset_mmseg\" #ANUSHKA"
   ]
  },
  {
   "cell_type": "code",
   "execution_count": 11,
   "id": "ff8b40ac-de73-4a7e-8427-a9a037c4ef55",
   "metadata": {},
   "outputs": [],
   "source": [
    "nearmap_img = os.path.join(data_root, \"img_dir_nearmap/\")\n",
    "output_img = os.path.join(data_root, \"img_dir_nearmap_jpg/\")\n",
    "nearmap_ann = os.path.join(data_root, \"ann_dir_nearmap/\")\n",
    "output_ann = os.path.join(data_root, \"ann_dir_nearmap_jpg/\")"
   ]
  },
  {
   "cell_type": "code",
   "execution_count": 3,
   "id": "8fc18838-7b7a-489f-a13c-b95e165dfe06",
   "metadata": {},
   "outputs": [],
   "source": [
    "#UAV Directories \n",
    "uav_img = os.path.join(data_root, \"img_dir_uav/\")\n",
    "output_img = os.path.join(data_root, \"img_dir_uav_jpg/\")"
   ]
  },
  {
   "cell_type": "code",
   "execution_count": 4,
   "id": "61e4bdda-e3c5-4c7e-92d9-0df4986c0c81",
   "metadata": {},
   "outputs": [],
   "source": [
    "def change_jpg(path, output):\n",
    "    sub_dirs = ['train/', 'test/', 'val/']\n",
    "    for sub_dir in sub_dirs:\n",
    "        dirs = os.listdir(path+sub_dir)\n",
    "        for item in dirs:\n",
    "            if os.path.isfile(path+sub_dir+item):\n",
    "                im = Image.open(path+sub_dir+item)\n",
    "                im = im.convert('RGB')\n",
    "                filename = item.split('.')[0]\n",
    "                im.save(output+sub_dir+filename+'.jpg')\n",
    "\n",
    "# dirs = [uav_img, nearmap_ann]\n",
    "# outputs = [output_img, output_ann]\n",
    "# for i in range(len(dirs)):\n",
    "#     change_jpg(dirs[i], outputs[i])\n",
    "    \n",
    "change_jpg(uav_img, output_img)\n",
    "\n"
   ]
  },
  {
   "cell_type": "code",
   "execution_count": null,
   "id": "1de781eb-7d84-4a17-94d9-23f067537023",
   "metadata": {},
   "outputs": [],
   "source": []
  }
 ],
 "metadata": {
  "kernelspec": {
   "display_name": "Python 3",
   "language": "python",
   "name": "python3"
  },
  "language_info": {
   "codemirror_mode": {
    "name": "ipython",
    "version": 3
   },
   "file_extension": ".py",
   "mimetype": "text/x-python",
   "name": "python",
   "nbconvert_exporter": "python",
   "pygments_lexer": "ipython3",
   "version": "3.6.9"
  }
 },
 "nbformat": 4,
 "nbformat_minor": 5
}
